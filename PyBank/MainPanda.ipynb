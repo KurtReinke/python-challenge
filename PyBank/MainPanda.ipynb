{
 "cells": [
  {
   "cell_type": "code",
   "execution_count": 96,
   "metadata": {},
   "outputs": [],
   "source": [
    "#Create file paths across operating systems\n",
    "import os\n",
    "#Import Data/module for reading csv files\n",
    "import csv"
   ]
  },
  {
   "cell_type": "code",
   "execution_count": 97,
   "metadata": {},
   "outputs": [],
   "source": [
    "#Create/combine Module\n",
    "file1= os.path.join('Resources/budget_data.csv')\n"
   ]
  },
  {
   "cell_type": "code",
   "execution_count": 261,
   "metadata": {},
   "outputs": [
    {
     "name": "stdout",
     "output_type": "stream",
     "text": [
      "86\n",
      "38382578\n",
      "-196785\n"
     ]
    },
    {
     "ename": "ValueError",
     "evalue": "'999942' is not in list",
     "output_type": "error",
     "traceback": [
      "\u001b[1;31m---------------------------------------------------------------------------\u001b[0m",
      "\u001b[1;31mValueError\u001b[0m                                Traceback (most recent call last)",
      "\u001b[1;32m<ipython-input-261-ddade0dd1d28>\u001b[0m in \u001b[0;36m<module>\u001b[1;34m\u001b[0m\n\u001b[0;32m     41\u001b[0m \u001b[1;31m#greatest increase in profits(date and amount)\u001b[0m\u001b[1;33m\u001b[0m\u001b[1;33m\u001b[0m\u001b[1;33m\u001b[0m\u001b[0m\n\u001b[0;32m     42\u001b[0m \u001b[1;31m#max of profitloss, index and max for month\u001b[0m\u001b[1;33m\u001b[0m\u001b[1;33m\u001b[0m\u001b[1;33m\u001b[0m\u001b[0m\n\u001b[1;32m---> 43\u001b[1;33m     \u001b[0mbestprofits\u001b[0m\u001b[1;33m=\u001b[0m\u001b[1;33m[\u001b[0m\u001b[1;33m{\u001b[0m\u001b[0mmonth\u001b[0m\u001b[1;33m.\u001b[0m\u001b[0mindex\u001b[0m\u001b[1;33m(\u001b[0m\u001b[0mmax\u001b[0m\u001b[1;33m(\u001b[0m\u001b[0mprofitloss\u001b[0m\u001b[1;33m)\u001b[0m\u001b[1;33m)\u001b[0m\u001b[1;33m}\u001b[0m\u001b[1;33m,\u001b[0m \u001b[0mmax\u001b[0m\u001b[1;33m(\u001b[0m\u001b[0mprofitloss\u001b[0m\u001b[1;33m)\u001b[0m\u001b[1;33m]\u001b[0m\u001b[1;33m\u001b[0m\u001b[1;33m\u001b[0m\u001b[0m\n\u001b[0m\u001b[0;32m     44\u001b[0m     \u001b[0mprint\u001b[0m\u001b[1;33m(\u001b[0m\u001b[0mbestprofits\u001b[0m\u001b[1;33m)\u001b[0m\u001b[1;33m\u001b[0m\u001b[1;33m\u001b[0m\u001b[0m\n\u001b[0;32m     45\u001b[0m \u001b[1;31m#greatest decrease in losses(date and amount)\u001b[0m\u001b[1;33m\u001b[0m\u001b[1;33m\u001b[0m\u001b[1;33m\u001b[0m\u001b[0m\n",
      "\u001b[1;31mValueError\u001b[0m: '999942' is not in list"
     ]
    }
   ],
   "source": [
    "#Values represented\n",
    "month=[]\n",
    "profitloss=[]\n",
    "average=[]\n",
    "bestprofits=[\"\",0]\n",
    "worstlosses=[\"\", 9999999999]\n",
    "\n",
    "#Open File in Read mode and store contents in the variables\n",
    "with open(file1) as file:\n",
    "    \n",
    "    #csv reader specifies variable that holds content\n",
    "    csvreader= csv.reader(file, delimiter=',')\n",
    "    \n",
    "    #read the header row first/skip it\n",
    "    header= next(csvreader)\n",
    "\n",
    "    #print(f\"Header: {header}\")\n",
    "    #{Print Each Month\n",
    "    #for row in csvreader:\n",
    "    #print(row[0])\n",
    "        \n",
    "#Total Number of months included in dataset\n",
    "#append total months/total profit to columns\n",
    "    for row in csvreader:\n",
    "        month.append(row[0])\n",
    "        profitloss.append(row[1])\n",
    "    print(len(month))\n",
    "    \n",
    "#net total amount of Profit/Losses over entire period\n",
    "    plperiod= map(int,profitloss)\n",
    "    total=(sum(plperiod))\n",
    "    print(total)\n",
    "    \n",
    "#average of the changes in Profit/Losses for entire period, range not array\n",
    "    for x in range(len(profitloss)-1):\n",
    "        mc= int(profitloss[x+1])-int(profitloss[x])\n",
    "#append to columns and create total\n",
    "        average.append(mc)\n",
    "    print(sum(average))\n",
    "\n",
    "#greatest increase in profits(date and amount)\n",
    "#max of profitloss, index and max for month\n",
    "    bestprofits=[{profitloss.index(max(month))}, max(profitloss)]\n",
    "    print(bestprofits)\n",
    "#greatest decrease in losses(date and amount)\n",
    "    worstprofits=[{profitloss.index(min(month))}, min(profitloss)]\n",
    "    print(worstprofits)\n",
    "#export text file\n",
    "\n",
    "print(f'Financial Analysis')\n",
    "print(f'---------------------------------------------)\n",
    "\n",
    "print(\"Total Number of Months:\" + str(month))\n",
    "print(\"Total Revenue in period: $ \" + str(profitloss))\n",
    "      \n",
    "print(\"Average Monthly Change in Revenue : $\" + str(average))\n",
    "\n",
    "print(f\"Greatest Increase in Profits: {bestprofits}\")\n",
    "\n",
    "print(f\"Greatest Decrease in Profits: {worstprofits}\")\n",
    "      \n",
    "with open(main.py, \"w\") as txt_file:\n",
    "      txt_file.write(output)\n",
    "    \n"
   ]
  },
  {
   "cell_type": "code",
   "execution_count": null,
   "metadata": {},
   "outputs": [],
   "source": []
  },
  {
   "cell_type": "code",
   "execution_count": null,
   "metadata": {},
   "outputs": [],
   "source": [
    "\n",
    "\n",
    "#\n",
    "\n"
   ]
  }
 ],
 "metadata": {
  "kernelspec": {
   "display_name": "Python 3",
   "language": "python",
   "name": "python3"
  },
  "language_info": {
   "codemirror_mode": {
    "name": "ipython",
    "version": 3
   },
   "file_extension": ".py",
   "mimetype": "text/x-python",
   "name": "python",
   "nbconvert_exporter": "python",
   "pygments_lexer": "ipython3",
   "version": "3.7.6"
  }
 },
 "nbformat": 4,
 "nbformat_minor": 4
}
