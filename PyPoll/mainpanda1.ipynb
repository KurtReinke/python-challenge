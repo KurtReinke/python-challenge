{
 "cells": [
  {
   "cell_type": "code",
   "execution_count": 14,
   "metadata": {},
   "outputs": [
    {
     "ename": "SyntaxError",
     "evalue": "EOL while scanning string literal (<ipython-input-14-98c9fcd00e08>, line 76)",
     "output_type": "error",
     "traceback": [
      "\u001b[1;36m  File \u001b[1;32m\"<ipython-input-14-98c9fcd00e08>\"\u001b[1;36m, line \u001b[1;32m76\u001b[0m\n\u001b[1;33m    print(f\"Correy: {correyp}, {correyt})\u001b[0m\n\u001b[1;37m                                         ^\u001b[0m\n\u001b[1;31mSyntaxError\u001b[0m\u001b[1;31m:\u001b[0m EOL while scanning string literal\n"
     ]
    }
   ],
   "source": [
    "#imports\n",
    "import os\n",
    "import csv\n",
    "\n",
    "#create module\n",
    "file1= os.path.join('Resources/election_data.csv')\n",
    "\n",
    "#define variables\n",
    "total_votes_cast=[]\n",
    "candidates=[]\n",
    "county=[]\n",
    "khan=[0]\n",
    "correy=[]\n",
    "li=[0]\n",
    "otooley=[]\n",
    "\n",
    "#open file\n",
    "with open(file1) as csvfile:\n",
    "    csvreader= csv.reader(csvfile, delimiter=',')\n",
    "#skip header\n",
    "    header=next(csvreader)\n",
    "    \n",
    "#The total number of votes cast\n",
    "\n",
    "    for row in csvreader:\n",
    "        total_votes_cast=(sum(len(votes)))\n",
    "        print(total_votes_cast)\n",
    "        #votes.append(int(row[0]))\n",
    "        #county.append(row[1])\n",
    "        #candidates.append(row[2])\n",
    "        \n",
    "#totalvotesdict= dict[zip(candidates, votes)]        \n",
    "#The total number of votes each candidate won  \n",
    "\n",
    "#if for each candidate vote total\n",
    "    for candidate in candidates:\n",
    "        if row[2] == \"Khan\":\n",
    "            khant= len(khan)\n",
    "        elif row[2] == \"Correy\":\n",
    "            correyt= len(correy)\n",
    "        elif row[2] == \"Li\":\n",
    "            lit= len(li)\n",
    "        elif row[2] == \"O'Tooley\":\n",
    "            tooleyt= len(otooley)\n",
    "    \n",
    "    \n",
    "#Dictionary for candidates\n",
    "#A complete list of candidates who received votes\n",
    "    candidates_list={\"Khan\", \"Correy\", \"Li\", \"O'Tooley\"}\n",
    "    print(f'{candidates}')\n",
    "\n",
    "#The percentage of votes each candidate won\n",
    "khanp = ((khant/total_votes_cast)*100)\n",
    "correyp= ((correyt/total_votes_cast)*100)\n",
    "lip= ((lit/total_votes_cast)*100)\n",
    "otooleyp= ((otooleyt/total_votes_cast)*100)\n",
    "\n",
    "#The winner of the election based on popular vote.\n",
    "if khanp>(otooleyp, lip, correyp):\n",
    "    winner=\"Khan!\"\n",
    "elif correyp>(otooleyp, lip, khanp):\n",
    "    winner= \"Correy!\"\n",
    "elif lip>(otooleyp, khanp, correyp):\n",
    "    winner=\"Li!\"\n",
    "elif otooleyp>(khanp, lip, correyp):\n",
    "    winner= \"O'Tooley!\"\n",
    "    \n",
    "output=os.path('python-challenge/PyPoll/\"ElectionResults\"')\n",
    "with open(output) as file:\n",
    "\n",
    "    print(f\"Election Results\")\n",
    "    print(f\"-------------------------------------------------\")\n",
    "    print(f\"Total Votes Cast:{total_votes_cast}\")\n",
    "    print(f\"-------------------------------------------------\")\n",
    "    print(f\"Khan: {khanp}, {khant}\")\n",
    "    print(f\"Correy: {correyp}, {correyt})\n",
    "    print(f\"Li: {lip}, {lit}\")\n",
    "    print(f\"O'Tooley: {otooleyp}, {otooleyt}\")\n",
    "    print(f\"-------------------------------------------------\")\n",
    "    print(f\"Winner: {winner}\")\n",
    "    print(f\"--------------------------------------------------\")\n"
   ]
  },
  {
   "cell_type": "code",
   "execution_count": null,
   "metadata": {},
   "outputs": [],
   "source": []
  },
  {
   "cell_type": "code",
   "execution_count": null,
   "metadata": {},
   "outputs": [],
   "source": []
  }
 ],
 "metadata": {
  "kernelspec": {
   "display_name": "Python 3",
   "language": "python",
   "name": "python3"
  },
  "language_info": {
   "codemirror_mode": {
    "name": "ipython",
    "version": 3
   },
   "file_extension": ".py",
   "mimetype": "text/x-python",
   "name": "python",
   "nbconvert_exporter": "python",
   "pygments_lexer": "ipython3",
   "version": "3.7.6"
  }
 },
 "nbformat": 4,
 "nbformat_minor": 4
}
